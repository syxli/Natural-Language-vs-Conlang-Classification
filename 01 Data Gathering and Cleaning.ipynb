{
 "cells": [
  {
   "cell_type": "markdown",
   "id": "f98a99f7-047f-42bd-b5dc-8f8e3b36cb51",
   "metadata": {},
   "source": [
    "# Data Gathering and Cleaning"
   ]
  },
  {
   "cell_type": "markdown",
   "id": "e71c6d49-ab84-4c32-8f80-e6e556d2bd33",
   "metadata": {},
   "source": [
    "## Imports"
   ]
  },
  {
   "cell_type": "code",
   "execution_count": 150,
   "id": "b77fe834-a09a-4b64-b67a-cb3a7b0cc5e5",
   "metadata": {},
   "outputs": [],
   "source": [
    "import requests\n",
    "import pandas as pd"
   ]
  },
  {
   "cell_type": "code",
   "execution_count": 151,
   "id": "125781f0-d111-4331-9c86-3ad41be8983e",
   "metadata": {},
   "outputs": [],
   "source": [
    "#Pushshift API\n",
    "base = 'https://api.pushshift.io/reddit/search/submission/'"
   ]
  },
  {
   "cell_type": "markdown",
   "id": "1047e56f-260e-4519-989b-1a269673c871",
   "metadata": {},
   "source": [
    "## Functions"
   ]
  },
  {
   "cell_type": "code",
   "execution_count": 152,
   "id": "8b02f7f8-a7c0-4539-bbc1-37cbb26ae415",
   "metadata": {},
   "outputs": [],
   "source": [
    "#function to create parameter dictionary (default set to 100 which is Pushshift API's maximum)\n",
    "def set_param(sub, size = 100, date = None):\n",
    "    parameters = {\n",
    "        'subreddit': sub,\n",
    "        'size': size,\n",
    "        'before': date,\n",
    "    }\n",
    "    return parameters"
   ]
  },
  {
   "cell_type": "code",
   "execution_count": 153,
   "id": "dbc911ef-ba5e-4d7e-8b94-8dce9d2a3501",
   "metadata": {},
   "outputs": [],
   "source": [
    "#function to get posts based on parameters\n",
    "def get_posts(params):\n",
    "    res = requests.get(base, params)\n",
    "    if res.status_code == 200:\n",
    "        data = res.json()\n",
    "        posts = data['data']\n",
    "        return posts\n",
    "    else:\n",
    "        print('Status Code Error')"
   ]
  },
  {
   "cell_type": "code",
   "execution_count": 154,
   "id": "8927c33d-d9fb-42b4-b380-1ce31e2dfe9d",
   "metadata": {},
   "outputs": [],
   "source": [
    "#function to get n*100 posts with one function (finds the timestamp of the last post and uses that as the new starting point)\n",
    "def get_n00_posts(subreddit, n, before = None):\n",
    "    params = set_param(subreddit, date = before)\n",
    "    all_df = pd.DataFrame(get_posts(params))\n",
    "    one_df = pd.DataFrame(get_posts(params))\n",
    "    i = 1\n",
    "    while i < n:\n",
    "        i += 1\n",
    "        last_date = one_df['created_utc'].iloc[-1]\n",
    "        new_param = set_param(subreddit, date = last_date)\n",
    "        one_df = pd.DataFrame(get_posts(new_param))\n",
    "        all_df = pd.concat([all_df, one_df], ignore_index = True)\n",
    "    return all_df"
   ]
  },
  {
   "cell_type": "code",
   "execution_count": 155,
   "id": "1145d8fd-72e6-4076-9364-21cc4d3e142b",
   "metadata": {},
   "outputs": [],
   "source": [
    "#function to keep only relevant columns\n",
    "def col_keep(big_df):\n",
    "    return big_df[['subreddit', 'selftext', 'title']]"
   ]
  },
  {
   "cell_type": "markdown",
   "id": "906ab048-f05c-4416-b64e-76dfef2ce470",
   "metadata": {},
   "source": [
    "## Data Gathering"
   ]
  },
  {
   "cell_type": "code",
   "execution_count": 135,
   "id": "1c438194-073c-4de0-ad42-9126e1be4ba7",
   "metadata": {},
   "outputs": [],
   "source": [
    "#gathering data from first subreddit\n",
    "lin_df = get_n00_posts('linguistics', 10, before = 1648328400)"
   ]
  },
  {
   "cell_type": "code",
   "execution_count": 136,
   "id": "74a93754-61d6-49cf-80a1-aa24c27f9ba6",
   "metadata": {},
   "outputs": [
    {
     "data": {
      "text/plain": [
       "(999, 82)"
      ]
     },
     "execution_count": 136,
     "metadata": {},
     "output_type": "execute_result"
    }
   ],
   "source": [
    "#checking data size\n",
    "lin_df.shape"
   ]
  },
  {
   "cell_type": "code",
   "execution_count": 147,
   "id": "38744686-c721-41bf-a2ff-8d77a781a3b0",
   "metadata": {},
   "outputs": [],
   "source": [
    "#gathering data from second subreddit\n",
    "con_df = get_n00_posts('conlangs', 10, before = 1648328400)"
   ]
  },
  {
   "cell_type": "code",
   "execution_count": 148,
   "id": "4ab82227-d8a1-49e0-a6db-def17a8664df",
   "metadata": {},
   "outputs": [
    {
     "data": {
      "text/plain": [
       "(997, 84)"
      ]
     },
     "execution_count": 148,
     "metadata": {},
     "output_type": "execute_result"
    }
   ],
   "source": [
    "#checking data size\n",
    "con_df.shape"
   ]
  },
  {
   "cell_type": "code",
   "execution_count": 139,
   "id": "a36cb3cc-b3c6-4542-bafb-1643c637a1a0",
   "metadata": {},
   "outputs": [],
   "source": [
    "#keeping only relevant columns\n",
    "lin_df = col_keep(lin_df)\n",
    "con_df = col_keep(con_df)"
   ]
  },
  {
   "cell_type": "code",
   "execution_count": 161,
   "id": "d2fa84f7-e321-47df-89fd-18ad4d0eded4",
   "metadata": {},
   "outputs": [
    {
     "data": {
      "text/html": [
       "<div>\n",
       "<style scoped>\n",
       "    .dataframe tbody tr th:only-of-type {\n",
       "        vertical-align: middle;\n",
       "    }\n",
       "\n",
       "    .dataframe tbody tr th {\n",
       "        vertical-align: top;\n",
       "    }\n",
       "\n",
       "    .dataframe thead th {\n",
       "        text-align: right;\n",
       "    }\n",
       "</style>\n",
       "<table border=\"1\" class=\"dataframe\">\n",
       "  <thead>\n",
       "    <tr style=\"text-align: right;\">\n",
       "      <th></th>\n",
       "      <th>subreddit</th>\n",
       "      <th>selftext</th>\n",
       "      <th>title</th>\n",
       "    </tr>\n",
       "  </thead>\n",
       "  <tbody>\n",
       "    <tr>\n",
       "      <th>0</th>\n",
       "      <td>linguistics</td>\n",
       "      <td></td>\n",
       "      <td>The Great Law of Peace is supposed to have bee...</td>\n",
       "    </tr>\n",
       "    <tr>\n",
       "      <th>1</th>\n",
       "      <td>linguistics</td>\n",
       "      <td>I am 18 years old right now and I am consideri...</td>\n",
       "      <td>Is there a way I can work with language preser...</td>\n",
       "    </tr>\n",
       "    <tr>\n",
       "      <th>2</th>\n",
       "      <td>linguistics</td>\n",
       "      <td>[removed]</td>\n",
       "      <td>Why is genitive the second case?</td>\n",
       "    </tr>\n",
       "    <tr>\n",
       "      <th>3</th>\n",
       "      <td>linguistics</td>\n",
       "      <td>I keep getting mixed results form just searchi...</td>\n",
       "      <td>what age can you no longer pick up a new accent</td>\n",
       "    </tr>\n",
       "    <tr>\n",
       "      <th>4</th>\n",
       "      <td>linguistics</td>\n",
       "      <td>[removed]</td>\n",
       "      <td>Genitives and derived adjectives, Locatives an...</td>\n",
       "    </tr>\n",
       "    <tr>\n",
       "      <th>...</th>\n",
       "      <td>...</td>\n",
       "      <td>...</td>\n",
       "      <td>...</td>\n",
       "    </tr>\n",
       "    <tr>\n",
       "      <th>994</th>\n",
       "      <td>linguistics</td>\n",
       "      <td>Because of the former political entity Czechos...</td>\n",
       "      <td>Does Slovak descend from a common Czech/Slovak...</td>\n",
       "    </tr>\n",
       "    <tr>\n",
       "      <th>995</th>\n",
       "      <td>linguistics</td>\n",
       "      <td>[removed]</td>\n",
       "      <td>Why is it that topics are untouched for years ...</td>\n",
       "    </tr>\n",
       "    <tr>\n",
       "      <th>996</th>\n",
       "      <td>linguistics</td>\n",
       "      <td>[removed]</td>\n",
       "      <td>We know it's possible to reconstruct proto-lan...</td>\n",
       "    </tr>\n",
       "    <tr>\n",
       "      <th>997</th>\n",
       "      <td>linguistics</td>\n",
       "      <td></td>\n",
       "      <td>About the universal contained in the Lithuania...</td>\n",
       "    </tr>\n",
       "    <tr>\n",
       "      <th>998</th>\n",
       "      <td>linguistics</td>\n",
       "      <td>[removed]</td>\n",
       "      <td>Sentence with no real words but we can determi...</td>\n",
       "    </tr>\n",
       "  </tbody>\n",
       "</table>\n",
       "<p>999 rows × 3 columns</p>\n",
       "</div>"
      ],
      "text/plain": [
       "       subreddit                                           selftext  \\\n",
       "0    linguistics                                                      \n",
       "1    linguistics  I am 18 years old right now and I am consideri...   \n",
       "2    linguistics                                          [removed]   \n",
       "3    linguistics  I keep getting mixed results form just searchi...   \n",
       "4    linguistics                                          [removed]   \n",
       "..           ...                                                ...   \n",
       "994  linguistics  Because of the former political entity Czechos...   \n",
       "995  linguistics                                          [removed]   \n",
       "996  linguistics                                          [removed]   \n",
       "997  linguistics                                                      \n",
       "998  linguistics                                          [removed]   \n",
       "\n",
       "                                                 title  \n",
       "0    The Great Law of Peace is supposed to have bee...  \n",
       "1    Is there a way I can work with language preser...  \n",
       "2                     Why is genitive the second case?  \n",
       "3      what age can you no longer pick up a new accent  \n",
       "4    Genitives and derived adjectives, Locatives an...  \n",
       "..                                                 ...  \n",
       "994  Does Slovak descend from a common Czech/Slovak...  \n",
       "995  Why is it that topics are untouched for years ...  \n",
       "996  We know it's possible to reconstruct proto-lan...  \n",
       "997  About the universal contained in the Lithuania...  \n",
       "998  Sentence with no real words but we can determi...  \n",
       "\n",
       "[999 rows x 3 columns]"
      ]
     },
     "execution_count": 161,
     "metadata": {},
     "output_type": "execute_result"
    }
   ],
   "source": [
    "#data check\n",
    "lin_df"
   ]
  },
  {
   "cell_type": "code",
   "execution_count": 142,
   "id": "e165db7a-f651-4681-8206-c5e20e130766",
   "metadata": {},
   "outputs": [
    {
     "data": {
      "text/html": [
       "<div>\n",
       "<style scoped>\n",
       "    .dataframe tbody tr th:only-of-type {\n",
       "        vertical-align: middle;\n",
       "    }\n",
       "\n",
       "    .dataframe tbody tr th {\n",
       "        vertical-align: top;\n",
       "    }\n",
       "\n",
       "    .dataframe thead th {\n",
       "        text-align: right;\n",
       "    }\n",
       "</style>\n",
       "<table border=\"1\" class=\"dataframe\">\n",
       "  <thead>\n",
       "    <tr style=\"text-align: right;\">\n",
       "      <th></th>\n",
       "      <th>linguistics</th>\n",
       "      <th>selftext</th>\n",
       "      <th>title</th>\n",
       "    </tr>\n",
       "  </thead>\n",
       "  <tbody>\n",
       "    <tr>\n",
       "      <th>0</th>\n",
       "      <td>1</td>\n",
       "      <td></td>\n",
       "      <td>The Great Law of Peace is supposed to have bee...</td>\n",
       "    </tr>\n",
       "    <tr>\n",
       "      <th>1</th>\n",
       "      <td>1</td>\n",
       "      <td>I am 18 years old right now and I am consideri...</td>\n",
       "      <td>Is there a way I can work with language preser...</td>\n",
       "    </tr>\n",
       "    <tr>\n",
       "      <th>2</th>\n",
       "      <td>1</td>\n",
       "      <td>[removed]</td>\n",
       "      <td>Why is genitive the second case?</td>\n",
       "    </tr>\n",
       "    <tr>\n",
       "      <th>3</th>\n",
       "      <td>1</td>\n",
       "      <td>I keep getting mixed results form just searchi...</td>\n",
       "      <td>what age can you no longer pick up a new accent</td>\n",
       "    </tr>\n",
       "    <tr>\n",
       "      <th>4</th>\n",
       "      <td>1</td>\n",
       "      <td>[removed]</td>\n",
       "      <td>Genitives and derived adjectives, Locatives an...</td>\n",
       "    </tr>\n",
       "    <tr>\n",
       "      <th>...</th>\n",
       "      <td>...</td>\n",
       "      <td>...</td>\n",
       "      <td>...</td>\n",
       "    </tr>\n",
       "    <tr>\n",
       "      <th>1991</th>\n",
       "      <td>0</td>\n",
       "      <td>So I love different bases and wanted to see wh...</td>\n",
       "      <td>Base Prime numbers with Python (Code at end of...</td>\n",
       "    </tr>\n",
       "    <tr>\n",
       "      <th>1992</th>\n",
       "      <td>0</td>\n",
       "      <td>If so, why? What part of conlanging do you enj...</td>\n",
       "      <td>Are you interested in programming?</td>\n",
       "    </tr>\n",
       "    <tr>\n",
       "      <th>1993</th>\n",
       "      <td>0</td>\n",
       "      <td>Australia, as with other parts of the world wi...</td>\n",
       "      <td>Australian languages?</td>\n",
       "    </tr>\n",
       "    <tr>\n",
       "      <th>1994</th>\n",
       "      <td>0</td>\n",
       "      <td>Hello, I am currently getting back into conlan...</td>\n",
       "      <td>Ancestral Aunaic</td>\n",
       "    </tr>\n",
       "    <tr>\n",
       "      <th>1995</th>\n",
       "      <td>0</td>\n",
       "      <td>[removed]</td>\n",
       "      <td>Lexicon App for PC?</td>\n",
       "    </tr>\n",
       "  </tbody>\n",
       "</table>\n",
       "<p>1996 rows × 3 columns</p>\n",
       "</div>"
      ],
      "text/plain": [
       "      linguistics                                           selftext  \\\n",
       "0               1                                                      \n",
       "1               1  I am 18 years old right now and I am consideri...   \n",
       "2               1                                          [removed]   \n",
       "3               1  I keep getting mixed results form just searchi...   \n",
       "4               1                                          [removed]   \n",
       "...           ...                                                ...   \n",
       "1991            0  So I love different bases and wanted to see wh...   \n",
       "1992            0  If so, why? What part of conlanging do you enj...   \n",
       "1993            0  Australia, as with other parts of the world wi...   \n",
       "1994            0  Hello, I am currently getting back into conlan...   \n",
       "1995            0                                          [removed]   \n",
       "\n",
       "                                                  title  \n",
       "0     The Great Law of Peace is supposed to have bee...  \n",
       "1     Is there a way I can work with language preser...  \n",
       "2                      Why is genitive the second case?  \n",
       "3       what age can you no longer pick up a new accent  \n",
       "4     Genitives and derived adjectives, Locatives an...  \n",
       "...                                                 ...  \n",
       "1991  Base Prime numbers with Python (Code at end of...  \n",
       "1992                 Are you interested in programming?  \n",
       "1993                              Australian languages?  \n",
       "1994                                   Ancestral Aunaic  \n",
       "1995                                Lexicon App for PC?  \n",
       "\n",
       "[1996 rows x 3 columns]"
      ]
     },
     "execution_count": 142,
     "metadata": {},
     "output_type": "execute_result"
    }
   ],
   "source": [
    "#combining dataframes from both subreddits and setting category to 1 for \"linguistics\" and 0 for \"conlangs\"\n",
    "data = pd.concat([lin_df, con_df], ignore_index = True)\n",
    "data['subreddit'] = data['subreddit'].map(lambda x: 1 if x == 'linguistics' else 0)\n",
    "data.rename(columns = {'subreddit': 'linguistics'})"
   ]
  },
  {
   "cell_type": "code",
   "execution_count": 156,
   "id": "f6a3f556-a03c-4433-a785-a0a9d7cd7d3f",
   "metadata": {},
   "outputs": [],
   "source": [
    "#exporting data to CSV file\n",
    "data.to_csv('data/posts.csv')"
   ]
  },
  {
   "cell_type": "code",
   "execution_count": 159,
   "id": "cdc65954-36ad-4ba7-9f82-381bde896c2f",
   "metadata": {},
   "outputs": [
    {
     "data": {
      "text/plain": [
       "(1996, 3)"
      ]
     },
     "execution_count": 159,
     "metadata": {},
     "output_type": "execute_result"
    }
   ],
   "source": [
    "data.shape"
   ]
  },
  {
   "cell_type": "code",
   "execution_count": null,
   "id": "b6f63792-e8cf-4437-8ecc-8a151d4ef56c",
   "metadata": {},
   "outputs": [],
   "source": []
  }
 ],
 "metadata": {
  "kernelspec": {
   "display_name": "Python 3 (ipykernel)",
   "language": "python",
   "name": "python3"
  },
  "language_info": {
   "codemirror_mode": {
    "name": "ipython",
    "version": 3
   },
   "file_extension": ".py",
   "mimetype": "text/x-python",
   "name": "python",
   "nbconvert_exporter": "python",
   "pygments_lexer": "ipython3",
   "version": "3.9.7"
  }
 },
 "nbformat": 4,
 "nbformat_minor": 5
}
