{
 "cells": [
  {
   "cell_type": "markdown",
   "id": "13529ed6-0b3f-4034-96fc-a138350e1e86",
   "metadata": {},
   "source": [
    "# More Text Processing and Modeling"
   ]
  },
  {
   "cell_type": "markdown",
   "id": "3369c2c2-1bd3-4370-89d4-debe68d57763",
   "metadata": {},
   "source": [
    "## Imports"
   ]
  },
  {
   "cell_type": "code",
   "execution_count": 2,
   "id": "56fe55f5-e000-4a03-ace7-665bc6da14c0",
   "metadata": {},
   "outputs": [],
   "source": [
    "import pandas as pd\n",
    "import numpy as np\n",
    "import matplotlib.pyplot as plt\n",
    "from sklearn.model_selection import train_test_split, GridSearchCV\n",
    "from sklearn.pipeline import Pipeline\n",
    "from sklearn.naive_bayes import MultinomialNB\n",
    "from sklearn.linear_model import LogisticRegression\n",
    "from sklearn.neighbors import KNeighborsClassifier\n",
    "from sklearn.ensemble import RandomForestClassifier\n",
    "from sklearn.metrics import confusion_matrix, plot_confusion_matrix\n",
    "from sklearn.feature_extraction.text import CountVectorizer, TfidfVectorizer"
   ]
  },
  {
   "cell_type": "markdown",
   "id": "52d2eb14-6782-42e4-81a7-7f1f4c048fc1",
   "metadata": {},
   "source": [
    "## Reading in the Data"
   ]
  },
  {
   "cell_type": "code",
   "execution_count": 3,
   "id": "e8ce9102-25b3-4367-8cb0-59292c61ff6f",
   "metadata": {},
   "outputs": [],
   "source": [
    "df = pd.read_csv('./data/cleaned_posts.csv', index_col = 'Unnamed: 0')"
   ]
  },
  {
   "cell_type": "code",
   "execution_count": 4,
   "id": "988b712a-b80f-496f-ad1a-297fcd7a9a95",
   "metadata": {},
   "outputs": [
    {
     "data": {
      "text/html": [
       "<div>\n",
       "<style scoped>\n",
       "    .dataframe tbody tr th:only-of-type {\n",
       "        vertical-align: middle;\n",
       "    }\n",
       "\n",
       "    .dataframe tbody tr th {\n",
       "        vertical-align: top;\n",
       "    }\n",
       "\n",
       "    .dataframe thead th {\n",
       "        text-align: right;\n",
       "    }\n",
       "</style>\n",
       "<table border=\"1\" class=\"dataframe\">\n",
       "  <thead>\n",
       "    <tr style=\"text-align: right;\">\n",
       "      <th></th>\n",
       "      <th>subreddit</th>\n",
       "      <th>selftext</th>\n",
       "      <th>title</th>\n",
       "      <th>text</th>\n",
       "      <th>cleaned</th>\n",
       "    </tr>\n",
       "  </thead>\n",
       "  <tbody>\n",
       "    <tr>\n",
       "      <th>0</th>\n",
       "      <td>1</td>\n",
       "      <td>NaN</td>\n",
       "      <td>The Great Law of Peace is supposed to have bee...</td>\n",
       "      <td>The Great Law of Peace is supposed to have bee...</td>\n",
       "      <td>the great law peac suppos compos upon found ha...</td>\n",
       "    </tr>\n",
       "    <tr>\n",
       "      <th>1</th>\n",
       "      <td>1</td>\n",
       "      <td>I am 18 years old right now and I am consideri...</td>\n",
       "      <td>Is there a way I can work with language preser...</td>\n",
       "      <td>I am 18 years old right now and I am consideri...</td>\n",
       "      <td>i year old right i consid option go colleg i l...</td>\n",
       "    </tr>\n",
       "    <tr>\n",
       "      <th>2</th>\n",
       "      <td>1</td>\n",
       "      <td>NaN</td>\n",
       "      <td>Why is genitive the second case?</td>\n",
       "      <td>Why is genitive the second case?</td>\n",
       "      <td>whi genit second case</td>\n",
       "    </tr>\n",
       "    <tr>\n",
       "      <th>3</th>\n",
       "      <td>1</td>\n",
       "      <td>I keep getting mixed results form just searchi...</td>\n",
       "      <td>what age can you no longer pick up a new accent</td>\n",
       "      <td>I keep getting mixed results form just searchi...</td>\n",
       "      <td>i keep get mix result form search i see end sa...</td>\n",
       "    </tr>\n",
       "    <tr>\n",
       "      <th>4</th>\n",
       "      <td>1</td>\n",
       "      <td>NaN</td>\n",
       "      <td>Genitives and derived adjectives, Locatives an...</td>\n",
       "      <td>Genitives and derived adjectives, Locatives an...</td>\n",
       "      <td>genit deriv adject loc deriv adverb</td>\n",
       "    </tr>\n",
       "  </tbody>\n",
       "</table>\n",
       "</div>"
      ],
      "text/plain": [
       "   subreddit                                           selftext  \\\n",
       "0          1                                                NaN   \n",
       "1          1  I am 18 years old right now and I am consideri...   \n",
       "2          1                                                NaN   \n",
       "3          1  I keep getting mixed results form just searchi...   \n",
       "4          1                                                NaN   \n",
       "\n",
       "                                               title  \\\n",
       "0  The Great Law of Peace is supposed to have bee...   \n",
       "1  Is there a way I can work with language preser...   \n",
       "2                   Why is genitive the second case?   \n",
       "3    what age can you no longer pick up a new accent   \n",
       "4  Genitives and derived adjectives, Locatives an...   \n",
       "\n",
       "                                                text  \\\n",
       "0  The Great Law of Peace is supposed to have bee...   \n",
       "1  I am 18 years old right now and I am consideri...   \n",
       "2                   Why is genitive the second case?   \n",
       "3  I keep getting mixed results form just searchi...   \n",
       "4  Genitives and derived adjectives, Locatives an...   \n",
       "\n",
       "                                             cleaned  \n",
       "0  the great law peac suppos compos upon found ha...  \n",
       "1  i year old right i consid option go colleg i l...  \n",
       "2                              whi genit second case  \n",
       "3  i keep get mix result form search i see end sa...  \n",
       "4                genit deriv adject loc deriv adverb  "
      ]
     },
     "execution_count": 4,
     "metadata": {},
     "output_type": "execute_result"
    }
   ],
   "source": [
    "df.head()"
   ]
  },
  {
   "cell_type": "code",
   "execution_count": 54,
   "id": "f6386fd8-62ac-4eee-afc4-dc3cb72567ab",
   "metadata": {},
   "outputs": [],
   "source": [
    "df['selftext'] = df['selftext'].map(lambda x: '' if x == '[removed]' or x == 'NaN' or x == np.NaN or type(x) == float or x == 'nan' else x)"
   ]
  },
  {
   "cell_type": "code",
   "execution_count": 31,
   "id": "1c18c86b-cede-4911-9e41-fb5fc37f6168",
   "metadata": {},
   "outputs": [],
   "source": [
    "df = df[df['cleaned'].str.len()>300]"
   ]
  },
  {
   "cell_type": "code",
   "execution_count": 32,
   "id": "eaf728c8-d2c7-4f23-b883-57fcc965f77e",
   "metadata": {},
   "outputs": [
    {
     "data": {
      "text/html": [
       "<div>\n",
       "<style scoped>\n",
       "    .dataframe tbody tr th:only-of-type {\n",
       "        vertical-align: middle;\n",
       "    }\n",
       "\n",
       "    .dataframe tbody tr th {\n",
       "        vertical-align: top;\n",
       "    }\n",
       "\n",
       "    .dataframe thead th {\n",
       "        text-align: right;\n",
       "    }\n",
       "</style>\n",
       "<table border=\"1\" class=\"dataframe\">\n",
       "  <thead>\n",
       "    <tr style=\"text-align: right;\">\n",
       "      <th></th>\n",
       "      <th>subreddit</th>\n",
       "      <th>selftext</th>\n",
       "      <th>title</th>\n",
       "      <th>text</th>\n",
       "      <th>cleaned</th>\n",
       "    </tr>\n",
       "  </thead>\n",
       "  <tbody>\n",
       "    <tr>\n",
       "      <th>12</th>\n",
       "      <td>1</td>\n",
       "      <td>some have observed, that while good old-fashio...</td>\n",
       "      <td>What are the basic problems of the CxG framework?</td>\n",
       "      <td>some have observed, that while good old-fashio...</td>\n",
       "      <td>observ good old fashion valenc grammar quit go...</td>\n",
       "    </tr>\n",
       "    <tr>\n",
       "      <th>14</th>\n",
       "      <td>1</td>\n",
       "      <td>I’m not a linguist, but I am polylingual and k...</td>\n",
       "      <td>What to do when members of a linguistic commun...</td>\n",
       "      <td>I’m not a linguist, but I am polylingual and k...</td>\n",
       "      <td>i linguist i polylingu know lot grammar differ...</td>\n",
       "    </tr>\n",
       "    <tr>\n",
       "      <th>32</th>\n",
       "      <td>1</td>\n",
       "      <td>hey people 🙂 my name is Franek I am a 3rd year...</td>\n",
       "      <td>Lil job</td>\n",
       "      <td>hey people 🙂 my name is Franek I am a 3rd year...</td>\n",
       "      <td>hey peopl name franek i rd year fine art stude...</td>\n",
       "    </tr>\n",
       "    <tr>\n",
       "      <th>40</th>\n",
       "      <td>1</td>\n",
       "      <td>I want to know if people in different countrie...</td>\n",
       "      <td>Do people in different countries refer to thei...</td>\n",
       "      <td>I want to know if people in different countrie...</td>\n",
       "      <td>i want know peopl differ countri use anim refe...</td>\n",
       "    </tr>\n",
       "    <tr>\n",
       "      <th>49</th>\n",
       "      <td>1</td>\n",
       "      <td>So, a few months, I was looking into other exa...</td>\n",
       "      <td>Palatal vs Palatalized Consonants</td>\n",
       "      <td>So, a few months, I was looking into other exa...</td>\n",
       "      <td>so month i look exampl de rhotic r drop immedi...</td>\n",
       "    </tr>\n",
       "  </tbody>\n",
       "</table>\n",
       "</div>"
      ],
      "text/plain": [
       "    subreddit                                           selftext  \\\n",
       "12          1  some have observed, that while good old-fashio...   \n",
       "14          1  I’m not a linguist, but I am polylingual and k...   \n",
       "32          1  hey people 🙂 my name is Franek I am a 3rd year...   \n",
       "40          1  I want to know if people in different countrie...   \n",
       "49          1  So, a few months, I was looking into other exa...   \n",
       "\n",
       "                                                title  \\\n",
       "12  What are the basic problems of the CxG framework?   \n",
       "14  What to do when members of a linguistic commun...   \n",
       "32                                            Lil job   \n",
       "40  Do people in different countries refer to thei...   \n",
       "49                  Palatal vs Palatalized Consonants   \n",
       "\n",
       "                                                 text  \\\n",
       "12  some have observed, that while good old-fashio...   \n",
       "14  I’m not a linguist, but I am polylingual and k...   \n",
       "32  hey people 🙂 my name is Franek I am a 3rd year...   \n",
       "40  I want to know if people in different countrie...   \n",
       "49  So, a few months, I was looking into other exa...   \n",
       "\n",
       "                                              cleaned  \n",
       "12  observ good old fashion valenc grammar quit go...  \n",
       "14  i linguist i polylingu know lot grammar differ...  \n",
       "32  hey peopl name franek i rd year fine art stude...  \n",
       "40  i want know peopl differ countri use anim refe...  \n",
       "49  so month i look exampl de rhotic r drop immedi...  "
      ]
     },
     "execution_count": 32,
     "metadata": {},
     "output_type": "execute_result"
    }
   ],
   "source": [
    "df.head()"
   ]
  },
  {
   "cell_type": "code",
   "execution_count": 33,
   "id": "7ac7e300-b02d-4687-81cb-fcd5d5f0b73a",
   "metadata": {},
   "outputs": [
    {
     "data": {
      "text/plain": [
       "(761, 5)"
      ]
     },
     "execution_count": 33,
     "metadata": {},
     "output_type": "execute_result"
    }
   ],
   "source": [
    "df.shape"
   ]
  },
  {
   "cell_type": "code",
   "execution_count": 58,
   "id": "45192b28-2b64-4b7c-b772-24c85367b6a7",
   "metadata": {},
   "outputs": [
    {
     "data": {
      "text/plain": [
       "0    0.607096\n",
       "1    0.392904\n",
       "Name: subreddit, dtype: float64"
      ]
     },
     "execution_count": 58,
     "metadata": {},
     "output_type": "execute_result"
    }
   ],
   "source": [
    "df.subreddit.value_counts(normalize=True)"
   ]
  },
  {
   "cell_type": "code",
   "execution_count": 34,
   "id": "514ed657-f0d4-4737-a7c5-e38d1255982f",
   "metadata": {},
   "outputs": [],
   "source": [
    "X = df.cleaned\n",
    "y = df.subreddit"
   ]
  },
  {
   "cell_type": "code",
   "execution_count": 35,
   "id": "414bd599-87e2-4b1b-b76f-0ef2bccf9bad",
   "metadata": {},
   "outputs": [],
   "source": [
    "X_train, X_test, y_train, y_test = train_test_split(X, y, random_state=42, stratify = y)"
   ]
  },
  {
   "cell_type": "code",
   "execution_count": 36,
   "id": "71b84f73-b5e6-4fbb-866d-08a99711c3bf",
   "metadata": {},
   "outputs": [],
   "source": [
    "#setting up pipelines\n",
    "pipe_log = Pipeline([\n",
    "    ('tvec', TfidfVectorizer()),\n",
    "    ('log', LogisticRegression())\n",
    "])\n",
    "\n",
    "pipe_mnb = Pipeline([\n",
    "    ('tvec', TfidfVectorizer()),\n",
    "    ('mnb', MultinomialNB())\n",
    "])\n",
    "\n",
    "pipe_knn = Pipeline([\n",
    "    ('tvec', TfidfVectorizer()),\n",
    "    ('knn', KNeighborsClassifier())\n",
    "])\n",
    "\n",
    "pipe_rfc = Pipeline([\n",
    "    ('tvec', TfidfVectorizer()),\n",
    "    ('rfc', RandomForestClassifier())\n",
    "])\n",
    "\n",
    "log_par = {\n",
    "    'tvec__max_features': [2_000, 3_000, 4_000, 5_000, 6_000],\n",
    "    'tvec__binary': [True, False],\n",
    "    'tvec__stop_words': ['english'],\n",
    "    'tvec__ngram_range': [(1,1), (1,2)],\n",
    "    'log__C': [1, 0.1, 0.01, 0.001],\n",
    "    'log__solver': ['liblinear', 'lbfgs']\n",
    "}\n",
    "\n",
    "mnb_par = {\n",
    "    'tvec__max_features': [2_000, 3_000, 4_000, 5_000, 6_000],\n",
    "    'tvec__binary': [True, False],\n",
    "    'tvec__stop_words': ['english'],\n",
    "    'tvec__ngram_range': [(1,1), (1,2)],\n",
    "}\n",
    "\n",
    "knn_par = {\n",
    "    'knn__n_neighbors': [3, 5, 7, 9],\n",
    "    'knn__weights': ['uniform', 'distance'],\n",
    "    'knn__p': [1, 2],\n",
    "    'tvec__max_features': [2_000, 3_000, 4_000, 5_000, 6_000],\n",
    "    'tvec__binary': [True, False],\n",
    "    'tvec__stop_words': ['english'],\n",
    "    'tvec__ngram_range': [(1,1), (1,2)]\n",
    "}\n",
    "    \n",
    "rfc_par = {\n",
    "    'rfc__n_estimators': [50, 100, 150, 200],\n",
    "    'rfc__max_depth': [None, 1, 2, 3, 4, 5],\n",
    "    'tvec__max_features': [2_000, 3_000, 4_000, 5_000, 6_000],\n",
    "    'tvec__binary': [True, False],\n",
    "    'tvec__stop_words': ['english'],\n",
    "    'tvec__ngram_range': [(1,1), (1,2)],\n",
    "}"
   ]
  },
  {
   "cell_type": "code",
   "execution_count": 37,
   "id": "52ad9ed1-9a7f-4570-9ab4-15116af3495a",
   "metadata": {},
   "outputs": [],
   "source": [
    "gsl = GridSearchCV(pipe_log, param_grid = log_par, n_jobs = -1, cv = 3)"
   ]
  },
  {
   "cell_type": "code",
   "execution_count": 38,
   "id": "443b7015-a358-4913-82fb-450e947679b2",
   "metadata": {},
   "outputs": [
    {
     "data": {
      "text/plain": [
       "GridSearchCV(cv=3,\n",
       "             estimator=Pipeline(steps=[('tvec', TfidfVectorizer()),\n",
       "                                       ('log', LogisticRegression())]),\n",
       "             n_jobs=-1,\n",
       "             param_grid={'log__C': [1, 0.1, 0.01, 0.001],\n",
       "                         'log__solver': ['liblinear', 'lbfgs'],\n",
       "                         'tvec__binary': [True, False],\n",
       "                         'tvec__max_features': [2000, 3000, 4000, 5000, 6000],\n",
       "                         'tvec__ngram_range': [(1, 1), (1, 2)],\n",
       "                         'tvec__stop_words': ['english']})"
      ]
     },
     "execution_count": 38,
     "metadata": {},
     "output_type": "execute_result"
    }
   ],
   "source": [
    "gsl.fit(X_train, y_train)"
   ]
  },
  {
   "cell_type": "code",
   "execution_count": 43,
   "id": "7d061bc2-41af-4432-a9d0-f80b35c137e4",
   "metadata": {},
   "outputs": [],
   "source": [
    "gsm = GridSearchCV(pipe_mnb, param_grid = mnb_par, n_jobs = -1, cv = 3)"
   ]
  },
  {
   "cell_type": "code",
   "execution_count": 44,
   "id": "c6999343-8089-4b6b-b0c7-a51cf445bde3",
   "metadata": {},
   "outputs": [
    {
     "data": {
      "text/plain": [
       "GridSearchCV(cv=3,\n",
       "             estimator=Pipeline(steps=[('tvec', TfidfVectorizer()),\n",
       "                                       ('mnb', MultinomialNB())]),\n",
       "             n_jobs=-1,\n",
       "             param_grid={'tvec__binary': [True, False],\n",
       "                         'tvec__max_features': [2000, 3000, 4000, 5000, 6000],\n",
       "                         'tvec__ngram_range': [(1, 1), (1, 2)],\n",
       "                         'tvec__stop_words': ['english']})"
      ]
     },
     "execution_count": 44,
     "metadata": {},
     "output_type": "execute_result"
    }
   ],
   "source": [
    "gsm.fit(X_train, y_train)"
   ]
  },
  {
   "cell_type": "code",
   "execution_count": 45,
   "id": "08d37808-80e0-43ca-922e-f5a1575a7a07",
   "metadata": {},
   "outputs": [],
   "source": [
    "gsk = GridSearchCV(pipe_knn, param_grid = knn_par, n_jobs = -1, cv = 3)"
   ]
  },
  {
   "cell_type": "code",
   "execution_count": 46,
   "id": "7d9f3c86-22fa-4eac-986e-3ec4806c3cbb",
   "metadata": {},
   "outputs": [
    {
     "data": {
      "text/plain": [
       "GridSearchCV(cv=3,\n",
       "             estimator=Pipeline(steps=[('tvec', TfidfVectorizer()),\n",
       "                                       ('knn', KNeighborsClassifier())]),\n",
       "             n_jobs=-1,\n",
       "             param_grid={'knn__n_neighbors': [3, 5, 7, 9], 'knn__p': [1, 2],\n",
       "                         'knn__weights': ['uniform', 'distance'],\n",
       "                         'tvec__binary': [True, False],\n",
       "                         'tvec__max_features': [2000, 3000, 4000, 5000, 6000],\n",
       "                         'tvec__ngram_range': [(1, 1), (1, 2)],\n",
       "                         'tvec__stop_words': ['english']})"
      ]
     },
     "execution_count": 46,
     "metadata": {},
     "output_type": "execute_result"
    }
   ],
   "source": [
    "gsk.fit(X_train, y_train)"
   ]
  },
  {
   "cell_type": "code",
   "execution_count": 47,
   "id": "8dfaf9fc-eb7e-44a1-92a0-c48111d7cf51",
   "metadata": {},
   "outputs": [],
   "source": [
    "gsr = GridSearchCV(pipe_rfc, param_grid = rfc_par, n_jobs = -1, cv = 3)"
   ]
  },
  {
   "cell_type": "code",
   "execution_count": 48,
   "id": "85041d41-16db-4a3d-8587-b074de676121",
   "metadata": {},
   "outputs": [
    {
     "data": {
      "text/plain": [
       "GridSearchCV(cv=3,\n",
       "             estimator=Pipeline(steps=[('tvec', TfidfVectorizer()),\n",
       "                                       ('rfc', RandomForestClassifier())]),\n",
       "             n_jobs=-1,\n",
       "             param_grid={'rfc__max_depth': [None, 1, 2, 3, 4, 5],\n",
       "                         'rfc__n_estimators': [50, 100, 150, 200],\n",
       "                         'tvec__binary': [True, False],\n",
       "                         'tvec__max_features': [2000, 3000, 4000, 5000, 6000],\n",
       "                         'tvec__ngram_range': [(1, 1), (1, 2)],\n",
       "                         'tvec__stop_words': ['english']})"
      ]
     },
     "execution_count": 48,
     "metadata": {},
     "output_type": "execute_result"
    }
   ],
   "source": [
    "gsr.fit(X_train, y_train)"
   ]
  },
  {
   "cell_type": "code",
   "execution_count": 49,
   "id": "41c08180-5636-49cc-bb23-78cbeeb79319",
   "metadata": {},
   "outputs": [
    {
     "data": {
      "text/plain": [
       "(0.9701754385964912, 0.8848167539267016)"
      ]
     },
     "execution_count": 49,
     "metadata": {},
     "output_type": "execute_result"
    }
   ],
   "source": [
    "gsl.score(X_train, y_train), gsl.score(X_test, y_test)"
   ]
  },
  {
   "cell_type": "code",
   "execution_count": 50,
   "id": "c3cf570a-42c4-47df-b363-e5969cde3179",
   "metadata": {},
   "outputs": [
    {
     "data": {
      "image/png": "[encoded data removed]",
      "text/plain": [
       "<Figure size 432x288 with 2 Axes>"
      ]
     },
     "metadata": {
      "needs_background": "light"
     },
     "output_type": "display_data"
    }
   ],
   "source": [
    "plot_confusion_matrix(gsl, X_test, y_test, display_labels=['r/linguistics', 'r/conlangs'], cmap = 'plasma');"
   ]
  },
  {
   "cell_type": "code",
   "execution_count": 51,
   "id": "636d9ebd-b681-484d-9285-58e4dc8f7a40",
   "metadata": {},
   "outputs": [
    {
     "data": {
      "text/plain": [
       "(0.9473684210526315, 0.9109947643979057)"
      ]
     },
     "execution_count": 51,
     "metadata": {},
     "output_type": "execute_result"
    }
   ],
   "source": [
    "gsm.best_estimator_.score(X_train, y_train), gsm.best_estimator_.score(X_test, y_test)"
   ]
  },
  {
   "cell_type": "code",
   "execution_count": 52,
   "id": "a87c6930-1389-445c-90b5-f157cb2b6fe6",
   "metadata": {},
   "outputs": [
    {
     "data": {
      "image/png": "[encoded data removed]",
      "text/plain": [
       "<Figure size 432x288 with 2 Axes>"
      ]
     },
     "metadata": {
      "needs_background": "light"
     },
     "output_type": "display_data"
    }
   ],
   "source": [
    "plot_confusion_matrix(gsm, X_test, y_test, display_labels=['r/linguistics', 'r/conlangs'], cmap = 'plasma');"
   ]
  },
  {
   "cell_type": "code",
   "execution_count": 53,
   "id": "cde38705-8b17-4db9-bbc5-3b95ebfe5e0e",
   "metadata": {},
   "outputs": [
    {
     "data": {
      "text/plain": [
       "(0.9982456140350877, 0.9109947643979057)"
      ]
     },
     "execution_count": 53,
     "metadata": {},
     "output_type": "execute_result"
    }
   ],
   "source": [
    "gsk.score(X_train, y_train), gsk.score(X_test, y_test)"
   ]
  },
  {
   "cell_type": "code",
   "execution_count": 54,
   "id": "de229bb1-b4ff-45db-afbe-5adba79c373a",
   "metadata": {},
   "outputs": [
    {
     "data": {
      "image/png": "[encoded data removed]",
      "text/plain": [
       "<Figure size 432x288 with 2 Axes>"
      ]
     },
     "metadata": {
      "needs_background": "light"
     },
     "output_type": "display_data"
    }
   ],
   "source": [
    "plot_confusion_matrix(gsk, X_test, y_test, display_labels=['r/linguistics', 'r/conlangs'], cmap = 'plasma');"
   ]
  },
  {
   "cell_type": "code",
   "execution_count": 60,
   "id": "66cbd4fd-3780-4c84-b8d2-330393bfc614",
   "metadata": {},
   "outputs": [
    {
     "data": {
      "text/plain": [
       "(1.0, 0.8795811518324608)"
      ]
     },
     "execution_count": 60,
     "metadata": {},
     "output_type": "execute_result"
    }
   ],
   "source": [
    "gsr.score(X_train, y_train), gsr.score(X_test, y_test)"
   ]
  },
  {
   "cell_type": "code",
   "execution_count": 56,
   "id": "7c1953c8-ad33-45f6-8b7c-d2ba75e4e603",
   "metadata": {},
   "outputs": [
    {
     "data": {
      "image/png": "[encoded data removed]",
      "text/plain": [
       "<Figure size 432x288 with 2 Axes>"
      ]
     },
     "metadata": {
      "needs_background": "light"
     },
     "output_type": "display_data"
    }
   ],
   "source": [
    "plot_confusion_matrix(gsr, X_test, y_test, display_labels=['r/linguistics', 'r/conlangs'], cmap = 'plasma');"
   ]
  },
  {
   "cell_type": "code",
   "execution_count": null,
   "id": "1cc2a7fb-05b5-46bb-a4ce-2ebfc66ad207",
   "metadata": {},
   "outputs": [],
   "source": []
  }
 ],
 "metadata": {
  "kernelspec": {
   "display_name": "Python 3 (ipykernel)",
   "language": "python",
   "name": "python3"
  },
  "language_info": {
   "codemirror_mode": {
    "name": "ipython",
    "version": 3
   },
   "file_extension": ".py",
   "mimetype": "text/x-python",
   "name": "python",
   "nbconvert_exporter": "python",
   "pygments_lexer": "ipython3",
   "version": "3.9.7"
  }
 },
 "nbformat": 4,
 "nbformat_minor": 5
}
